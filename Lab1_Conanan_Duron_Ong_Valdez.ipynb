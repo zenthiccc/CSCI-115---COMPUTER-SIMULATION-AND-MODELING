{
  "cells": [
    {
      "cell_type": "markdown",
      "source": [
        "# Module 1 Lab – Snakes & Ladders\n",
        "\n",
        "## Lab Group 9\n",
        "* RAUL JAROD CONANAN\n",
        "* JOSEPH JR. DURON\n",
        "* TYLER ONG\n",
        "* JULIANA YSABELLE VALDEZ"
      ],
      "metadata": {
        "id": "KpgihfUsxMwp"
      },
      "id": "KpgihfUsxMwp"
    },
    {
      "cell_type": "code",
      "execution_count": null,
      "id": "b5cfa755-bf55-41b1-8b5f-dae7e7bfa812",
      "metadata": {
        "id": "b5cfa755-bf55-41b1-8b5f-dae7e7bfa812"
      },
      "outputs": [],
      "source": [
        "import numpy as np\n",
        "import numpy.random as nr\n",
        "import pandas as pd\n",
        "import matplotlib.pyplot as plt\n",
        "\n",
        "np.set_printoptions(linewidth=300)"
      ]
    },
    {
      "cell_type": "markdown",
      "id": "671e4855-d4e9-41b6-97f2-ec1c9a576070",
      "metadata": {
        "id": "671e4855-d4e9-41b6-97f2-ec1c9a576070"
      },
      "source": [
        "## Problem 1\n",
        "\n",
        "**Instruction:** Using a Monte Carlo simulation approach, approximate the probability that we will win in exactly 4 turns."
      ]
    },
    {
      "cell_type": "code",
      "execution_count": null,
      "id": "79310971-c3d8-441e-a1a4-5d6de813bd86",
      "metadata": {
        "id": "79310971-c3d8-441e-a1a4-5d6de813bd86"
      },
      "outputs": [],
      "source": [
        "def play(win_state=12):\n",
        "    current_state = 1\n",
        "    num_turns = 0\n",
        "    while current_state < win_state:\n",
        "        current_state += np.random.randint(1, 5)\n",
        "        num_turns += 1\n",
        "    return num_turns"
      ]
    },
    {
      "cell_type": "code",
      "execution_count": null,
      "id": "e474e241-df47-4abf-84b4-a45398ed04f7",
      "metadata": {
        "id": "e474e241-df47-4abf-84b4-a45398ed04f7"
      },
      "outputs": [],
      "source": [
        "def simulate(n: int):\n",
        "    win_turns = np.array([])\n",
        "    for _ in range(n):\n",
        "        win_turns = np.append(win_turns, play())\n",
        "\n",
        "    plt.hist(win_turns, bins=np.arange(win_turns.min(), win_turns.max() + 1.5) - 0.5,\n",
        "             density=True, edgecolor=\"black\", alpha=0.75)\n",
        "\n",
        "    plt.xlabel(\"Number of Turns\")\n",
        "    plt.ylabel(\"Probability\")\n",
        "    plt.title(\"Histogram of Winning Turns\")\n",
        "    plt.grid(axis=\"y\", alpha=0.7)\n",
        "    plt.show()\n",
        "\n",
        "    unique_values, counts = np.unique(win_turns, return_counts=True)\n",
        "    probabilities = counts / counts.sum()\n",
        "    return {\"Turns\": unique_values, \"Probability\": probabilities}"
      ]
    },
    {
      "cell_type": "code",
      "execution_count": null,
      "id": "a26bd7f6-8842-4405-860e-3ee0f66b3970",
      "metadata": {
        "id": "a26bd7f6-8842-4405-860e-3ee0f66b3970",
        "outputId": "dc7e6a72-14b1-4642-b1c3-d9a854e0a821",
        "colab": {
          "base_uri": "https://localhost:8080/",
          "height": 755
        }
      },
      "outputs": [
        {
          "output_type": "display_data",
          "data": {
            "text/plain": [
              "<Figure size 640x480 with 1 Axes>"
            ],
            "image/png": "[encoded data removed]"
          },
          "metadata": {}
        },
        {
          "output_type": "execute_result",
          "data": {
            "text/plain": [
              "   Turns  Probability\n",
              "0    3.0      0.06175\n",
              "1    4.0      0.35183\n",
              "2    5.0      0.37046\n",
              "3    6.0      0.16592\n",
              "4    7.0      0.04298\n",
              "5    8.0      0.00645\n",
              "6    9.0      0.00060\n",
              "7   10.0      0.00001"
            ],
            "text/html": [
              "\n",
              "  <div id=\"df-1c34a5b3-fe56-4ab8-a713-12087fccf991\" class=\"colab-df-container\">\n",
              "    <div>\n",
              "<style scoped>\n",
              "    .dataframe tbody tr th:only-of-type {\n",
              "        vertical-align: middle;\n",
              "    }\n",
              "\n",
              "    .dataframe tbody tr th {\n",
              "        vertical-align: top;\n",
              "    }\n",
              "\n",
              "    .dataframe thead th {\n",
              "        text-align: right;\n",
              "    }\n",
              "</style>\n",
              "<table border=\"1\" class=\"dataframe\">\n",
              "  <thead>\n",
              "    <tr style=\"text-align: right;\">\n",
              "      <th></th>\n",
              "      <th>Turns</th>\n",
              "      <th>Probability</th>\n",
              "    </tr>\n",
              "  </thead>\n",
              "  <tbody>\n",
              "    <tr>\n",
              "      <th>0</th>\n",
              "      <td>3.0</td>\n",
              "      <td>0.06175</td>\n",
              "    </tr>\n",
              "    <tr>\n",
              "      <th>1</th>\n",
              "      <td>4.0</td>\n",
              "      <td>0.35183</td>\n",
              "    </tr>\n",
              "    <tr>\n",
              "      <th>2</th>\n",
              "      <td>5.0</td>\n",
              "      <td>0.37046</td>\n",
              "    </tr>\n",
              "    <tr>\n",
              "      <th>3</th>\n",
              "      <td>6.0</td>\n",
              "      <td>0.16592</td>\n",
              "    </tr>\n",
              "    <tr>\n",
              "      <th>4</th>\n",
              "      <td>7.0</td>\n",
              "      <td>0.04298</td>\n",
              "    </tr>\n",
              "    <tr>\n",
              "      <th>5</th>\n",
              "      <td>8.0</td>\n",
              "      <td>0.00645</td>\n",
              "    </tr>\n",
              "    <tr>\n",
              "      <th>6</th>\n",
              "      <td>9.0</td>\n",
              "      <td>0.00060</td>\n",
              "    </tr>\n",
              "    <tr>\n",
              "      <th>7</th>\n",
              "      <td>10.0</td>\n",
              "      <td>0.00001</td>\n",
              "    </tr>\n",
              "  </tbody>\n",
              "</table>\n",
              "</div>\n",
              "    <div class=\"colab-df-buttons\">\n",
              "\n",
              "  <div class=\"colab-df-container\">\n",
              "    <button class=\"colab-df-convert\" onclick=\"convertToInteractive('df-1c34a5b3-fe56-4ab8-a713-12087fccf991')\"\n",
              "            title=\"Convert this dataframe to an interactive table.\"\n",
              "            style=\"display:none;\">\n",
              "\n",
              "  <svg xmlns=\"http://www.w3.org/2000/svg\" height=\"24px\" viewBox=\"0 -960 960 960\">\n",
              "    <path d=\"M120-120v-720h720v720H120Zm60-500h600v-160H180v160Zm220 220h160v-160H400v160Zm0 220h160v-160H400v160ZM180-400h160v-160H180v160Zm440 0h160v-160H620v160ZM180-180h160v-160H180v160Zm440 0h160v-160H620v160Z\"/>\n",
              "  </svg>\n",
              "    </button>\n",
              "\n",
              "  <style>\n",
              "    .colab-df-container {\n",
              "      display:flex;\n",
              "      gap: 12px;\n",
              "    }\n",
              "\n",
              "    .colab-df-convert {\n",
              "      background-color: #E8F0FE;\n",
              "      border: none;\n",
              "      border-radius: 50%;\n",
              "      cursor: pointer;\n",
              "      display: none;\n",
              "      fill: #1967D2;\n",
              "      height: 32px;\n",
              "      padding: 0 0 0 0;\n",
              "      width: 32px;\n",
              "    }\n",
              "\n",
              "    .colab-df-convert:hover {\n",
              "      background-color: #E2EBFA;\n",
              "      box-shadow: 0px 1px 2px rgba(60, 64, 67, 0.3), 0px 1px 3px 1px rgba(60, 64, 67, 0.15);\n",
              "      fill: #174EA6;\n",
              "    }\n",
              "\n",
              "    .colab-df-buttons div {\n",
              "      margin-bottom: 4px;\n",
              "    }\n",
              "\n",
              "    [theme=dark] .colab-df-convert {\n",
              "      background-color: #3B4455;\n",
              "      fill: #D2E3FC;\n",
              "    }\n",
              "\n",
              "    [theme=dark] .colab-df-convert:hover {\n",
              "      background-color: #434B5C;\n",
              "      box-shadow: 0px 1px 3px 1px rgba(0, 0, 0, 0.15);\n",
              "      filter: drop-shadow(0px 1px 2px rgba(0, 0, 0, 0.3));\n",
              "      fill: #FFFFFF;\n",
              "    }\n",
              "  </style>\n",
              "\n",
              "    <script>\n",
              "      const buttonEl =\n",
              "        document.querySelector('#df-1c34a5b3-fe56-4ab8-a713-12087fccf991 button.colab-df-convert');\n",
              "      buttonEl.style.display =\n",
              "        google.colab.kernel.accessAllowed ? 'block' : 'none';\n",
              "\n",
              "      async function convertToInteractive(key) {\n",
              "        const element = document.querySelector('#df-1c34a5b3-fe56-4ab8-a713-12087fccf991');\n",
              "        const dataTable =\n",
              "          await google.colab.kernel.invokeFunction('convertToInteractive',\n",
              "                                                    [key], {});\n",
              "        if (!dataTable) return;\n",
              "\n",
              "        const docLinkHtml = 'Like what you see? Visit the ' +\n",
              "          '<a target=\"_blank\" href=https://colab.research.google.com/notebooks/data_table.ipynb>data table notebook</a>'\n",
              "          + ' to learn more about interactive tables.';\n",
              "        element.innerHTML = '';\n",
              "        dataTable['output_type'] = 'display_data';\n",
              "        await google.colab.output.renderOutput(dataTable, element);\n",
              "        const docLink = document.createElement('div');\n",
              "        docLink.innerHTML = docLinkHtml;\n",
              "        element.appendChild(docLink);\n",
              "      }\n",
              "    </script>\n",
              "  </div>\n",
              "\n",
              "\n",
              "<div id=\"df-6fa2ecf4-3470-4c49-a6e2-12f7d87478e2\">\n",
              "  <button class=\"colab-df-quickchart\" onclick=\"quickchart('df-6fa2ecf4-3470-4c49-a6e2-12f7d87478e2')\"\n",
              "            title=\"Suggest charts\"\n",
              "            style=\"display:none;\">\n",
              "\n",
              "<svg xmlns=\"http://www.w3.org/2000/svg\" height=\"24px\"viewBox=\"0 0 24 24\"\n",
              "     width=\"24px\">\n",
              "    <g>\n",
              "        <path d=\"M19 3H5c-1.1 0-2 .9-2 2v14c0 1.1.9 2 2 2h14c1.1 0 2-.9 2-2V5c0-1.1-.9-2-2-2zM9 17H7v-7h2v7zm4 0h-2V7h2v10zm4 0h-2v-4h2v4z\"/>\n",
              "    </g>\n",
              "</svg>\n",
              "  </button>\n",
              "\n",
              "<style>\n",
              "  .colab-df-quickchart {\n",
              "      --bg-color: #E8F0FE;\n",
              "      --fill-color: #1967D2;\n",
              "      --hover-bg-color: #E2EBFA;\n",
              "      --hover-fill-color: #174EA6;\n",
              "      --disabled-fill-color: #AAA;\n",
              "      --disabled-bg-color: #DDD;\n",
              "  }\n",
              "\n",
              "  [theme=dark] .colab-df-quickchart {\n",
              "      --bg-color: #3B4455;\n",
              "      --fill-color: #D2E3FC;\n",
              "      --hover-bg-color: #434B5C;\n",
              "      --hover-fill-color: #FFFFFF;\n",
              "      --disabled-bg-color: #3B4455;\n",
              "      --disabled-fill-color: #666;\n",
              "  }\n",
              "\n",
              "  .colab-df-quickchart {\n",
              "    background-color: var(--bg-color);\n",
              "    border: none;\n",
              "    border-radius: 50%;\n",
              "    cursor: pointer;\n",
              "    display: none;\n",
              "    fill: var(--fill-color);\n",
              "    height: 32px;\n",
              "    padding: 0;\n",
              "    width: 32px;\n",
              "  }\n",
              "\n",
              "  .colab-df-quickchart:hover {\n",
              "    background-color: var(--hover-bg-color);\n",
              "    box-shadow: 0 1px 2px rgba(60, 64, 67, 0.3), 0 1px 3px 1px rgba(60, 64, 67, 0.15);\n",
              "    fill: var(--button-hover-fill-color);\n",
              "  }\n",
              "\n",
              "  .colab-df-quickchart-complete:disabled,\n",
              "  .colab-df-quickchart-complete:disabled:hover {\n",
              "    background-color: var(--disabled-bg-color);\n",
              "    fill: var(--disabled-fill-color);\n",
              "    box-shadow: none;\n",
              "  }\n",
              "\n",
              "  .colab-df-spinner {\n",
              "    border: 2px solid var(--fill-color);\n",
              "    border-color: transparent;\n",
              "    border-bottom-color: var(--fill-color);\n",
              "    animation:\n",
              "      spin 1s steps(1) infinite;\n",
              "  }\n",
              "\n",
              "  @keyframes spin {\n",
              "    0% {\n",
              "      border-color: transparent;\n",
              "      border-bottom-color: var(--fill-color);\n",
              "      border-left-color: var(--fill-color);\n",
              "    }\n",
              "    20% {\n",
              "      border-color: transparent;\n",
              "      border-left-color: var(--fill-color);\n",
              "      border-top-color: var(--fill-color);\n",
              "    }\n",
              "    30% {\n",
              "      border-color: transparent;\n",
              "      border-left-color: var(--fill-color);\n",
              "      border-top-color: var(--fill-color);\n",
              "      border-right-color: var(--fill-color);\n",
              "    }\n",
              "    40% {\n",
              "      border-color: transparent;\n",
              "      border-right-color: var(--fill-color);\n",
              "      border-top-color: var(--fill-color);\n",
              "    }\n",
              "    60% {\n",
              "      border-color: transparent;\n",
              "      border-right-color: var(--fill-color);\n",
              "    }\n",
              "    80% {\n",
              "      border-color: transparent;\n",
              "      border-right-color: var(--fill-color);\n",
              "      border-bottom-color: var(--fill-color);\n",
              "    }\n",
              "    90% {\n",
              "      border-color: transparent;\n",
              "      border-bottom-color: var(--fill-color);\n",
              "    }\n",
              "  }\n",
              "</style>\n",
              "\n",
              "  <script>\n",
              "    async function quickchart(key) {\n",
              "      const quickchartButtonEl =\n",
              "        document.querySelector('#' + key + ' button');\n",
              "      quickchartButtonEl.disabled = true;  // To prevent multiple clicks.\n",
              "      quickchartButtonEl.classList.add('colab-df-spinner');\n",
              "      try {\n",
              "        const charts = await google.colab.kernel.invokeFunction(\n",
              "            'suggestCharts', [key], {});\n",
              "      } catch (error) {\n",
              "        console.error('Error during call to suggestCharts:', error);\n",
              "      }\n",
              "      quickchartButtonEl.classList.remove('colab-df-spinner');\n",
              "      quickchartButtonEl.classList.add('colab-df-quickchart-complete');\n",
              "    }\n",
              "    (() => {\n",
              "      let quickchartButtonEl =\n",
              "        document.querySelector('#df-6fa2ecf4-3470-4c49-a6e2-12f7d87478e2 button');\n",
              "      quickchartButtonEl.style.display =\n",
              "        google.colab.kernel.accessAllowed ? 'block' : 'none';\n",
              "    })();\n",
              "  </script>\n",
              "</div>\n",
              "\n",
              "    </div>\n",
              "  </div>\n"
            ],
            "application/vnd.google.colaboratory.intrinsic+json": {
              "type": "dataframe",
              "summary": "{\n  \"name\": \"pd\",\n  \"rows\": 8,\n  \"fields\": [\n    {\n      \"column\": \"Turns\",\n      \"properties\": {\n        \"dtype\": \"number\",\n        \"std\": 2.449489742783178,\n        \"min\": 3.0,\n        \"max\": 10.0,\n        \"num_unique_values\": 8,\n        \"samples\": [\n          4.0,\n          8.0,\n          3.0\n        ],\n        \"semantic_type\": \"\",\n        \"description\": \"\"\n      }\n    },\n    {\n      \"column\": \"Probability\",\n      \"properties\": {\n        \"dtype\": \"number\",\n        \"std\": 0.15549768597267657,\n        \"min\": 1e-05,\n        \"max\": 0.37046,\n        \"num_unique_values\": 8,\n        \"samples\": [\n          0.35183,\n          0.00645,\n          0.06175\n        ],\n        \"semantic_type\": \"\",\n        \"description\": \"\"\n      }\n    }\n  ]\n}"
            }
          },
          "metadata": {},
          "execution_count": 4
        }
      ],
      "source": [
        "pd.DataFrame.from_dict(data=simulate(100000))"
      ]
    },
    {
      "cell_type": "markdown",
      "source": [
        "**Answer:** The probability that a player can win in 4 turns given a 12 square board with no snakes or ladders is approximately 35.18%."
      ],
      "metadata": {
        "id": "c0ek3GTMr9Hg"
      },
      "id": "c0ek3GTMr9Hg"
    },
    {
      "cell_type": "markdown",
      "id": "e893d080-6dc1-434a-bb01-e17f474b0c60",
      "metadata": {
        "id": "e893d080-6dc1-434a-bb01-e17f474b0c60"
      },
      "source": [
        "## Problem 2\n",
        "\n",
        "**Instructions:** Construct the transition matrix for the problem. Then plot the probability of winning as a function of the number of moves in the game. What is the modal number of moves required by a single player to finish the game? (Note: You may find the numpy function argmax useful for this item.)"
      ]
    },
    {
      "cell_type": "code",
      "execution_count": null,
      "id": "9358c4e3-45e8-4f1d-90e2-2d4341e6dd6e",
      "metadata": {
        "id": "9358c4e3-45e8-4f1d-90e2-2d4341e6dd6e",
        "outputId": "2e5cbfa1-4ae2-4b17-94f9-3cb287fb2df1",
        "colab": {
          "base_uri": "https://localhost:8080/"
        }
      },
      "outputs": [
        {
          "output_type": "execute_result",
          "data": {
            "text/plain": [
              "array([[0.  , 0.25, 0.25, 0.25, 0.25, 0.  , 0.  , 0.  , 0.  , 0.  , 0.  , 0.  ],\n",
              "       [0.  , 0.  , 0.25, 0.25, 0.25, 0.25, 0.  , 0.  , 0.  , 0.  , 0.  , 0.  ],\n",
              "       [0.  , 0.  , 0.  , 0.25, 0.25, 0.25, 0.25, 0.  , 0.  , 0.  , 0.  , 0.  ],\n",
              "       [0.  , 0.  , 0.  , 0.  , 0.25, 0.25, 0.25, 0.25, 0.  , 0.  , 0.  , 0.  ],\n",
              "       [0.  , 0.  , 0.  , 0.  , 0.  , 0.25, 0.25, 0.25, 0.25, 0.  , 0.  , 0.  ],\n",
              "       [0.  , 0.  , 0.  , 0.  , 0.  , 0.  , 0.25, 0.25, 0.25, 0.25, 0.  , 0.  ],\n",
              "       [0.  , 0.  , 0.  , 0.  , 0.  , 0.  , 0.  , 0.25, 0.25, 0.25, 0.25, 0.  ],\n",
              "       [0.  , 0.  , 0.  , 0.  , 0.  , 0.  , 0.  , 0.  , 0.25, 0.25, 0.25, 0.25],\n",
              "       [0.  , 0.  , 0.  , 0.  , 0.  , 0.  , 0.  , 0.  , 0.  , 0.25, 0.25, 0.5 ],\n",
              "       [0.  , 0.  , 0.  , 0.  , 0.  , 0.  , 0.  , 0.  , 0.  , 0.  , 0.25, 0.75],\n",
              "       [0.  , 0.  , 0.  , 0.  , 0.  , 0.  , 0.  , 0.  , 0.  , 0.  , 0.  , 1.  ],\n",
              "       [0.  , 0.  , 0.  , 0.  , 0.  , 0.  , 0.  , 0.  , 0.  , 0.  , 0.  , 1.  ]])"
            ]
          },
          "metadata": {},
          "execution_count": 5
        }
      ],
      "source": [
        "trans_mat = np.zeros((12,12))\n",
        "\n",
        "probability = 1/4\n",
        "\n",
        "for row in range(len(trans_mat)):\n",
        "    for i in range(1, 5):\n",
        "        if row + i >= 12:\n",
        "            trans_mat[row, 11] += probability\n",
        "        else:\n",
        "            trans_mat[row, row+i] += probability\n",
        "\n",
        "trans_mat"
      ]
    },
    {
      "cell_type": "code",
      "execution_count": null,
      "id": "45965f75-c0e6-484a-a87e-dd28cd706501",
      "metadata": {
        "id": "45965f75-c0e6-484a-a87e-dd28cd706501"
      },
      "outputs": [],
      "source": [
        "def play(trans_mat, win_state=12):\n",
        "    curr_state = 1\n",
        "    moves = 0\n",
        "    while curr_state < win_state:\n",
        "        next_state = nr.choice(range(1,13), p=trans_mat[curr_state-1], size=1)[0]\n",
        "        curr_state = next_state\n",
        "        moves += 1\n",
        "    return moves"
      ]
    },
    {
      "cell_type": "code",
      "execution_count": null,
      "id": "87d6bac3-d381-425d-86f6-da0620946ab9",
      "metadata": {
        "id": "87d6bac3-d381-425d-86f6-da0620946ab9"
      },
      "outputs": [],
      "source": [
        "def simulate(trans_mat, n=10000):\n",
        "    win_moves = []\n",
        "    for _ in range(n):\n",
        "        win_moves.append(play(trans_mat))\n",
        "    win_moves = np.array(win_moves, dtype=np.int64)\n",
        "    modal = np.bincount(win_moves).argmax()\n",
        "\n",
        "    plt.hist(win_moves, bins='auto', density=True, edgecolor=\"black\", alpha=0.75)\n",
        "    plt.xlabel(\"Number of Moves to Win\")\n",
        "    plt.ylabel(\"Probability Density\")\n",
        "    plt.title(\"Probability Distribution of Moves to Win\")\n",
        "    plt.show()\n",
        "\n",
        "    return modal"
      ]
    },
    {
      "cell_type": "code",
      "execution_count": null,
      "id": "bae83cab-a7ef-4669-84be-ea38afbc55ab",
      "metadata": {
        "id": "bae83cab-a7ef-4669-84be-ea38afbc55ab",
        "outputId": "f6315279-1422-4d1d-9877-67037ec7b925",
        "colab": {
          "base_uri": "https://localhost:8080/",
          "height": 489
        }
      },
      "outputs": [
        {
          "output_type": "display_data",
          "data": {
            "text/plain": [
              "<Figure size 640x480 with 1 Axes>"
            ],
            "image/png": "[encoded data removed]"
          },
          "metadata": {}
        },
        {
          "output_type": "execute_result",
          "data": {
            "text/plain": [
              "5"
            ]
          },
          "metadata": {},
          "execution_count": 8
        }
      ],
      "source": [
        "simulate(trans_mat)"
      ]
    },
    {
      "cell_type": "markdown",
      "source": [
        "**Answer:** The modal number of moves required by a single player to finish the game given 12 squares and no snakes or ladders is **5 moves**"
      ],
      "metadata": {
        "id": "yLOyMwWusqYv"
      },
      "id": "yLOyMwWusqYv"
    },
    {
      "cell_type": "markdown",
      "id": "3eee9211-e6ee-4c6d-b385-678f934fb798",
      "metadata": {
        "id": "3eee9211-e6ee-4c6d-b385-678f934fb798"
      },
      "source": [
        "## Problem 3\n",
        "\n",
        "Repeat Problem 2, but this time, for a game with the actual Snakes and Ladders as indicated in the picture above.\n"
      ]
    },
    {
      "cell_type": "code",
      "execution_count": null,
      "id": "9a4068ca-5af9-4134-a82b-b6569f034c64",
      "metadata": {
        "id": "9a4068ca-5af9-4134-a82b-b6569f034c64"
      },
      "outputs": [],
      "source": [
        "def construct_trans_mat(snakes: dict, ladders: dict, win_state=12, die=4):\n",
        "    probability = 1/die\n",
        "    trans_mat = np.zeros((12,12))\n",
        "    for row in range(len(trans_mat)):\n",
        "        for i in range(1,die+1):\n",
        "            next_state = row + i\n",
        "            if (next_state + 1) in ladders:\n",
        "                trans_mat[row, ladders[next_state + 1] - 1] += probability\n",
        "            elif (next_state + 1) in snakes:\n",
        "                trans_mat[row, snakes[next_state + 1] - 1] += probability\n",
        "            elif next_state >= win_state:\n",
        "                trans_mat[row, win_state - 1] += probability\n",
        "            else:\n",
        "                trans_mat[row, next_state] += probability\n",
        "    return trans_mat"
      ]
    },
    {
      "cell_type": "code",
      "execution_count": null,
      "id": "64564848-78ef-43d5-a6e4-f5810d5f085b",
      "metadata": {
        "id": "64564848-78ef-43d5-a6e4-f5810d5f085b"
      },
      "outputs": [],
      "source": [
        "snakes = {9: 3, 6: 4, 11: 7}\n",
        "ladders = {8: 10, 2: 7}"
      ]
    },
    {
      "cell_type": "code",
      "execution_count": null,
      "id": "01f7476e-df92-4e1b-acc9-9d8431aab8a2",
      "metadata": {
        "id": "01f7476e-df92-4e1b-acc9-9d8431aab8a2",
        "outputId": "0ed9b4b7-42ce-4354-d40a-952b19fdcc90",
        "colab": {
          "base_uri": "https://localhost:8080/"
        }
      },
      "outputs": [
        {
          "output_type": "execute_result",
          "data": {
            "text/plain": [
              "array([[0.  , 0.  , 0.25, 0.25, 0.25, 0.  , 0.25, 0.  , 0.  , 0.  , 0.  , 0.  ],\n",
              "       [0.  , 0.  , 0.25, 0.5 , 0.25, 0.  , 0.  , 0.  , 0.  , 0.  , 0.  , 0.  ],\n",
              "       [0.  , 0.  , 0.  , 0.5 , 0.25, 0.  , 0.25, 0.  , 0.  , 0.  , 0.  , 0.  ],\n",
              "       [0.  , 0.  , 0.  , 0.25, 0.25, 0.  , 0.25, 0.  , 0.  , 0.25, 0.  , 0.  ],\n",
              "       [0.  , 0.  , 0.25, 0.25, 0.  , 0.  , 0.25, 0.  , 0.  , 0.25, 0.  , 0.  ],\n",
              "       [0.  , 0.  , 0.25, 0.  , 0.  , 0.  , 0.25, 0.  , 0.  , 0.5 , 0.  , 0.  ],\n",
              "       [0.  , 0.  , 0.25, 0.  , 0.  , 0.  , 0.25, 0.  , 0.  , 0.5 , 0.  , 0.  ],\n",
              "       [0.  , 0.  , 0.25, 0.  , 0.  , 0.  , 0.25, 0.  , 0.  , 0.25, 0.  , 0.25],\n",
              "       [0.  , 0.  , 0.  , 0.  , 0.  , 0.  , 0.25, 0.  , 0.  , 0.25, 0.  , 0.5 ],\n",
              "       [0.  , 0.  , 0.  , 0.  , 0.  , 0.  , 0.25, 0.  , 0.  , 0.  , 0.  , 0.75],\n",
              "       [0.  , 0.  , 0.  , 0.  , 0.  , 0.  , 0.  , 0.  , 0.  , 0.  , 0.  , 1.  ],\n",
              "       [0.  , 0.  , 0.  , 0.  , 0.  , 0.  , 0.  , 0.  , 0.  , 0.  , 0.  , 1.  ]])"
            ]
          },
          "metadata": {},
          "execution_count": 16
        }
      ],
      "source": [
        "prob3_trans_mat = construct_trans_mat(snakes, ladders)\n",
        "prob3_trans_mat"
      ]
    },
    {
      "cell_type": "code",
      "execution_count": null,
      "id": "fa96d1eb-adf2-4654-824c-d66e339bb307",
      "metadata": {
        "id": "fa96d1eb-adf2-4654-824c-d66e339bb307",
        "outputId": "863c3709-30b2-4628-e53e-c40730035075",
        "colab": {
          "base_uri": "https://localhost:8080/",
          "height": 472
        }
      },
      "outputs": [
        {
          "output_type": "display_data",
          "data": {
            "text/plain": [
              "<Figure size 640x480 with 1 Axes>"
            ],
            "image/png": "[encoded data removed]"
          },
          "metadata": {}
        }
      ],
      "source": [
        "win_move = simulate(prob3_trans_mat)"
      ]
    },
    {
      "cell_type": "code",
      "execution_count": null,
      "id": "13e113b1-a7d9-46f1-bb01-9f6b5466972e",
      "metadata": {
        "id": "13e113b1-a7d9-46f1-bb01-9f6b5466972e",
        "outputId": "a9163841-1be2-402a-807c-bb666253ade1",
        "colab": {
          "base_uri": "https://localhost:8080/"
        }
      },
      "outputs": [
        {
          "output_type": "execute_result",
          "data": {
            "text/plain": [
              "3"
            ]
          },
          "metadata": {},
          "execution_count": 18
        }
      ],
      "source": [
        "win_move"
      ]
    },
    {
      "cell_type": "markdown",
      "source": [
        "**Answer:** The most common number of moves required to win the game with the given snakes and ladders is **3 moves**."
      ],
      "metadata": {
        "id": "Z1EG3oQNwcXq"
      },
      "id": "Z1EG3oQNwcXq"
    },
    {
      "cell_type": "code",
      "source": [],
      "metadata": {
        "id": "iYv5kmymlKDG"
      },
      "id": "iYv5kmymlKDG",
      "execution_count": null,
      "outputs": []
    }
  ],
  "metadata": {
    "kernelspec": {
      "display_name": "Python 3 (ipykernel)",
      "language": "python",
      "name": "python3"
    },
    "language_info": {
      "codemirror_mode": {
        "name": "ipython",
        "version": 3
      },
      "file_extension": ".py",
      "mimetype": "text/x-python",
      "name": "python",
      "nbconvert_exporter": "python",
      "pygments_lexer": "ipython3",
      "version": "3.11.7"
    },
    "colab": {
      "provenance": []
    }
  },
  "nbformat": 4,
  "nbformat_minor": 5
}
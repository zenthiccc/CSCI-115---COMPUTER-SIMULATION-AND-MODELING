{
  "cells": [
    {
      "cell_type": "markdown",
      "source": [
        "# Lab Activity 2: Government Office Services\n",
        "\n",
        "## Lab Group 9\n",
        "* RAUL JAROD CONANAN\n",
        "* JOSEPH JR. DURON\n",
        "* TYLER ONG\n",
        "* JULIANA YSABELLE VALDEZ"
      ],
      "metadata": {
        "id": "ZzmXT-CnvCe5"
      },
      "id": "ZzmXT-CnvCe5"
    },
    {
      "cell_type": "markdown",
      "id": "c63a3d39-2b69-416b-be31-32dc5ab751fb",
      "metadata": {
        "id": "c63a3d39-2b69-416b-be31-32dc5ab751fb"
      },
      "source": [
        "# Problem 1.\n",
        "Define a CorruptQueue class that contains attributes RegularQueue and\n",
        "VIPStack, which is a representation of a queue and a stack, respectively. The\n",
        "constructor reads its data from a text file called officeinput.txt. This text file\n",
        "contains information on what CorruptQueue should do a line at a time. As\n",
        "CorruptQueue reads a line, it should process the information and printout a\n",
        "corresponding output on the command prompt.\n"
      ]
    },
    {
      "cell_type": "code",
      "execution_count": null,
      "id": "01900f67-6d59-43ce-93d7-29173325a31c",
      "metadata": {
        "id": "01900f67-6d59-43ce-93d7-29173325a31c"
      },
      "outputs": [],
      "source": [
        "class Client:\n",
        "    def __init__(self, name:str, type:str):\n",
        "        self.name = name\n",
        "        self.type = type.upper().strip()"
      ]
    },
    {
      "cell_type": "code",
      "execution_count": null,
      "id": "6e563c09-e8f1-4264-9c86-e231653cc8d0",
      "metadata": {
        "id": "6e563c09-e8f1-4264-9c86-e231653cc8d0"
      },
      "outputs": [],
      "source": [
        "from collections import deque\n",
        "\n",
        "class CorruptQueue:\n",
        "    def __init__(self, input_file_path: str,\n",
        "                 supervisor_present=False):\n",
        "        try:\n",
        "            with open(input_file_path, encoding='utf-8') as f:\n",
        "                self.lines = f.readlines()\n",
        "        except Exception as e:\n",
        "            print(f\"Failed to initialize CorruptQueue with error {e}\")\n",
        "\n",
        "        self.regular_queue = deque([])\n",
        "        self.vip_stack = deque([])\n",
        "        self.supervisor_present = supervisor_present\n",
        "\n",
        "    def _arrive(self):\n",
        "        self.supervisor_present = True\n",
        "        if self.vip_stack:\n",
        "            self.regular_queue.extendleft(reversed(self.vip_stack))\n",
        "            self.vip_stack.clear()\n",
        "        print(\"Supervisor present\")\n",
        "\n",
        "    def _leave(self):\n",
        "        self.supervisor_present = False\n",
        "        print(\"Supervisor not here\")\n",
        "\n",
        "    def _lineup(self, name: str, type:str):\n",
        "        client = Client(name, type)\n",
        "        if self.supervisor_present:\n",
        "            self.regular_queue.appendleft(client)\n",
        "            print(f\"{client.type} client {client.name} lines up at RegularQueue\")\n",
        "        else:\n",
        "            if client.type == 'REGULAR':\n",
        "                self.regular_queue.appendleft(client)\n",
        "                print(f\"{client.type} client {client.name} lines up at RegularQueue\")\n",
        "            else:\n",
        "                self.vip_stack.append(client)\n",
        "                print(f\"{client.type} client {client.name} lines up at VIPStack\")\n",
        "\n",
        "    def _serve(self):\n",
        "        if self.supervisor_present:\n",
        "            client = self.regular_queue.pop()\n",
        "            print(f\"Now serving {client.name} from RegularQueue\")\n",
        "        else:\n",
        "            if self.vip_stack:\n",
        "                client = self.vip_stack.pop()\n",
        "                print(f\"Now serving {client.name} from VIPStack\")\n",
        "            else:\n",
        "                client = self.regular_queue.pop()\n",
        "                print(f\"Now serving {client.name} from RegularQueue\")\n",
        "\n",
        "    def run(self):\n",
        "        for line in self.lines:\n",
        "            line = line.strip().split(',')\n",
        "            command = line[0]\n",
        "            if command == 'arrive':\n",
        "                self._arrive()\n",
        "            elif command == 'leave':\n",
        "                self._leave()\n",
        "            elif command == 'lineup':\n",
        "                self._lineup(line[1], line[2])\n",
        "            elif command == 'serve':\n",
        "                self._serve()"
      ]
    },
    {
      "cell_type": "code",
      "execution_count": null,
      "id": "a820e8c5-43e2-41c7-98d5-ef3796cbf037",
      "metadata": {
        "id": "a820e8c5-43e2-41c7-98d5-ef3796cbf037",
        "outputId": "23d0891c-0494-4d64-9fa5-411a85005b5e"
      },
      "outputs": [
        {
          "name": "stdout",
          "output_type": "stream",
          "text": [
            "REGULAR client John lines up at RegularQueue\n",
            "REGULAR client Bob lines up at RegularQueue\n",
            "REGULAR client Tom lines up at RegularQueue\n",
            "VIP client Sarah lines up at VIPStack\n",
            "VIP client Marie lines up at VIPStack\n",
            "VIP client Joan lines up at VIPStack\n",
            "Now serving Joan from VIPStack\n",
            "Now serving Marie from VIPStack\n",
            "Supervisor present\n",
            "Now serving John from RegularQueue\n",
            "Now serving Bob from RegularQueue\n",
            "Now serving Tom from RegularQueue\n",
            "VIP client Bea lines up at RegularQueue\n",
            "REGULAR client Hank lines up at RegularQueue\n",
            "Now serving Sarah from RegularQueue\n",
            "Now serving Bea from RegularQueue\n",
            "Now serving Hank from RegularQueue\n",
            "Supervisor not here\n",
            "REGULAR client Art lines up at RegularQueue\n",
            "VIP client Daisy lines up at VIPStack\n",
            "REGULAR client Marius lines up at RegularQueue\n",
            "VIP client Dane lines up at VIPStack\n",
            "Now serving Dane from VIPStack\n",
            "Supervisor present\n",
            "Now serving Art from RegularQueue\n",
            "Now serving Marius from RegularQueue\n",
            "Now serving Daisy from RegularQueue\n",
            "Supervisor not here\n"
          ]
        }
      ],
      "source": [
        "path = 'officeinput.txt'\n",
        "cq = CorruptQueue(path)\n",
        "cq.run()"
      ]
    },
    {
      "cell_type": "markdown",
      "id": "ce2cef56-a1fe-475b-b566-92df3e968bc7",
      "metadata": {
        "id": "ce2cef56-a1fe-475b-b566-92df3e968bc7"
      },
      "source": [
        "# Problem 2.\n",
        "Create a simulation that asks for a text file input from a user (which will be\n",
        "the file used in the constructor in the CorruptQueue class. There will just be one action\n",
        "per line, and you can assume that each line is always correct. The simulation will then\n",
        "output all the output lines in a separate text file (also to be inputted by the user). Sample\n",
        "input and output files will be provided for reference."
      ]
    },
    {
      "cell_type": "code",
      "execution_count": null,
      "id": "7897813f-4614-4192-9c3e-1db4bb6e2e27",
      "metadata": {
        "id": "7897813f-4614-4192-9c3e-1db4bb6e2e27"
      },
      "outputs": [],
      "source": [
        "class Client:\n",
        "    def __init__(self, name:str, type:str):\n",
        "        self.name = name\n",
        "        self.type = type.upper().strip()"
      ]
    },
    {
      "cell_type": "code",
      "execution_count": null,
      "id": "e3d04706-dfd4-4bc5-a500-9efc9d18bd24",
      "metadata": {
        "id": "e3d04706-dfd4-4bc5-a500-9efc9d18bd24"
      },
      "outputs": [],
      "source": [
        "from collections import deque\n",
        "\n",
        "class CorruptQueue:\n",
        "    def __init__(self, input_file_path: str,\n",
        "                 output_file_path: str,\n",
        "                 supervisor_present=False):\n",
        "        try:\n",
        "            with open(input_file_path, encoding='utf-8') as f:\n",
        "                self.lines = f.readlines()\n",
        "        except Exception as e:\n",
        "            print(f\"Failed to initialize CorruptQueue with error {e}\")\n",
        "\n",
        "        self.output_file_path = output_file_path\n",
        "        self.regular_queue = deque([])\n",
        "        self.vip_stack = deque([])\n",
        "        self.supervisor_present = supervisor_present\n",
        "        self.output = []\n",
        "\n",
        "    def _arrive(self):\n",
        "        self.supervisor_present = True\n",
        "        if self.vip_stack:\n",
        "            self.regular_queue.extendleft(reversed(self.vip_stack))\n",
        "            self.vip_stack.clear()\n",
        "        self.output.append(\"Supervisor present\\n\")\n",
        "\n",
        "    def _leave(self):\n",
        "        self.supervisor_present = False\n",
        "        self.output.append(\"Supervisor not here\\n\")\n",
        "\n",
        "    def _lineup(self, name: str, type:str):\n",
        "        client = Client(name, type)\n",
        "        if self.supervisor_present:\n",
        "            self.regular_queue.appendleft(client)\n",
        "            self.output.append(f\"{client.type} client {client.name} lines up at RegularQueue\\n\")\n",
        "        else:\n",
        "            if client.type == 'REGULAR':\n",
        "                self.regular_queue.appendleft(client)\n",
        "                self.output.append(f\"{client.type} client {client.name} lines up at RegularQueue\\n\")\n",
        "            else:\n",
        "                self.vip_stack.append(client)\n",
        "                self.output.append(f\"{client.type} client {client.name} lines up at VIPStack\\n\")\n",
        "\n",
        "    def _serve(self):\n",
        "        if self.supervisor_present:\n",
        "            client = self.regular_queue.pop()\n",
        "            self.output.append(f\"Now serving {client.name} from RegularQueue\\n\")\n",
        "        else:\n",
        "            if self.vip_stack:\n",
        "                client = self.vip_stack.pop()\n",
        "                self.output.append(f\"Now serving {client.name} from VIPStack\\n\")\n",
        "            else:\n",
        "                client = self.regular_queue.pop()\n",
        "                self.output.append(f\"Now serving {client.name} from RegularQueue\\n\")\n",
        "\n",
        "    def run(self):\n",
        "        for line in self.lines:\n",
        "            line = line.strip().split(',')\n",
        "            command = line[0]\n",
        "            if command == 'arrive':\n",
        "                self._arrive()\n",
        "            elif command == 'leave':\n",
        "                self._leave()\n",
        "            elif command == 'lineup':\n",
        "                self._lineup(line[1], line[2])\n",
        "            elif command == 'serve':\n",
        "                self._serve()\n",
        "        with open(self.output_file_path, 'w') as f:\n",
        "            f.writelines(self.output)"
      ]
    },
    {
      "cell_type": "code",
      "execution_count": null,
      "id": "d26c9fa8-d0f8-44f6-b68b-0748e211168c",
      "metadata": {
        "id": "d26c9fa8-d0f8-44f6-b68b-0748e211168c"
      },
      "outputs": [],
      "source": [
        "input_path = 'officeinput.txt'\n",
        "output_path = 'test_output.txt'\n",
        "cq = CorruptQueue(input_path, output_path)\n",
        "cq.run()"
      ]
    },
    {
      "cell_type": "markdown",
      "id": "40c6e268-40ff-4e8d-8529-a816ba3eda98",
      "metadata": {
        "id": "40c6e268-40ff-4e8d-8529-a816ba3eda98"
      },
      "source": [
        "# Problem 3"
      ]
    },
    {
      "cell_type": "code",
      "execution_count": null,
      "id": "4cb8ac87-2927-4598-ba02-ba592998684b",
      "metadata": {
        "id": "4cb8ac87-2927-4598-ba02-ba592998684b"
      },
      "outputs": [],
      "source": [
        "import numpy as np"
      ]
    },
    {
      "cell_type": "code",
      "execution_count": null,
      "id": "c5f323f3-3abf-4a0a-8d3b-2e18b50a53eb",
      "metadata": {
        "id": "c5f323f3-3abf-4a0a-8d3b-2e18b50a53eb",
        "outputId": "cd45411a-3068-4fc2-bde5-fcde158b4cac"
      },
      "outputs": [
        {
          "data": {
            "text/plain": [
              "14"
            ]
          },
          "execution_count": 164,
          "metadata": {},
          "output_type": "execute_result"
        }
      ],
      "source": [
        "np.random.poisson(10)"
      ]
    },
    {
      "cell_type": "code",
      "execution_count": null,
      "id": "cf01323f-c82e-43b2-923c-06020a73e7aa",
      "metadata": {
        "id": "cf01323f-c82e-43b2-923c-06020a73e7aa"
      },
      "outputs": [],
      "source": [
        "class CQSimulation:\n",
        "    def __init__(self, lambda_: float, mu: float, sigma: float):\n",
        "        self.lambda_ = lambda_\n",
        "        self.mu = mu\n",
        "        self.sigma = sigma\n",
        "        self.results = []\n",
        "\n",
        "    def poisson_arrivals(self, time_period: int):\n",
        "        inter_arrival_times = np.random.exponential(1 / self.lambda_, size=1000) # get inter-arrival times using exponential distribution\n",
        "        arrival_times = np.cumsum(inter_arrival_times)\n",
        "        return arrival_times[arrival_times < time_period]\n",
        "\n",
        "    def normal_service_time(self, size: int):\n",
        "        return np.maximum(0, np.random.normal(self.mu, self.sigma, size))\n",
        "\n",
        "    def run_simulation(self, time_period: int):\n",
        "        arrivals = self.poisson_arrivals(time_period)\n",
        "        service_times = self.normal_service_time(len(arrivals))\n",
        "        queue = CorruptQueue('officeinput.txt', 'test_output_problem3.txt', supervisor_present=True)  # supervisor is always present\n",
        "        wait_times = []\n",
        "        total_times = []\n",
        "        current_time = 0\n",
        "        queue.run()\n",
        "\n",
        "        for i in range(len(arrivals)):\n",
        "            arrival_time = arrivals[i]\n",
        "            service_time = service_times[i]\n",
        "\n",
        "            while queue.regular_queue and current_time < arrival_time:\n",
        "                next_service_end = current_time + service_times[i]\n",
        "                current_time = next_service_end\n",
        "                queue._serve()\n",
        "\n",
        "            wait_time = max(0, current_time - arrival_time)\n",
        "            total_time = wait_time + service_time\n",
        "            wait_times.append(wait_time)\n",
        "            total_times.append(total_time)\n",
        "\n",
        "            client_name = f\"Client_{i}\"\n",
        "            queue._lineup(client_name, 'REGULAR')\n",
        "\n",
        "            current_time = max(current_time, arrival_time) + service_time\n",
        "\n",
        "        avg_wait_time = np.mean(wait_times) if wait_times else 0\n",
        "        avg_total_time = np.mean(total_times) if total_times else 0\n",
        "\n",
        "        self.results.append((avg_wait_time, avg_total_time))\n",
        "\n",
        "    def run_multiple_simulations(self, num_iterations: int, time_period: int):\n",
        "        for _ in range(num_iterations):\n",
        "            self.run_simulation(time_period)\n",
        "\n",
        "        avg_wait_time = np.mean([r[0] for r in self.results])\n",
        "        avg_total_time = np.mean([r[1] for r in self.results])\n",
        "\n",
        "        print(f\"Average wait time: {avg_wait_time:.2f} minutes\")\n",
        "        print(f\"Average time in system: {avg_total_time:.2f} minutes\")"
      ]
    },
    {
      "cell_type": "code",
      "execution_count": null,
      "id": "92ae69b1-77da-4ead-a08e-87229987df4a",
      "metadata": {
        "id": "92ae69b1-77da-4ead-a08e-87229987df4a",
        "outputId": "b278899a-e98b-4556-c607-dba45af7e665"
      },
      "outputs": [
        {
          "name": "stdout",
          "output_type": "stream",
          "text": [
            "Average wait time: 114.06 minutes\n",
            "Average time in system: 124.19 minutes\n"
          ]
        }
      ],
      "source": [
        "num_iterations = 5\n",
        "lambda_ = 0.5\n",
        "mu = 10\n",
        "sigma = 2\n",
        "time_period = 60\n",
        "sim = CQSimulation(lambda_, mu, sigma)\n",
        "sim.run_multiple_simulations(num_iterations, time_period)"
      ]
    },
    {
      "cell_type": "code",
      "execution_count": null,
      "id": "402d954a-2a80-4694-b3a9-154e97ff0850",
      "metadata": {
        "id": "402d954a-2a80-4694-b3a9-154e97ff0850"
      },
      "outputs": [],
      "source": []
    }
  ],
  "metadata": {
    "colab": {
      "provenance": []
    },
    "kernelspec": {
      "display_name": "Python 3 (ipykernel)",
      "language": "python",
      "name": "python3"
    },
    "language_info": {
      "codemirror_mode": {
        "name": "ipython",
        "version": 3
      },
      "file_extension": ".py",
      "mimetype": "text/x-python",
      "name": "python",
      "nbconvert_exporter": "python",
      "pygments_lexer": "ipython3",
      "version": "3.12.4"
    }
  },
  "nbformat": 4,
  "nbformat_minor": 5
}